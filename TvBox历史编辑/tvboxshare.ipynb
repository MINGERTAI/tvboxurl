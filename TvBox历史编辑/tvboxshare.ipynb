{
 "cells": [
  {
   "cell_type": "code",
   "execution_count": null,
   "metadata": {},
   "outputs": [],
   "source": [
    "import requests\n",
    "import json\n",
    "url='http://xhww.fun:63/小米/DEMO.json'\n",
    "# url='https://gitee.com/jiangnandao/tvboxshare/raw/master/TvBoxLink'\n",
    "\n",
    "\n",
    "data = {\n",
    "    \"Host\":\"gitee.com\",\n",
    "    \"User-Agent\":\"Mozilla/5.0 (Linux; Android 6.0; Nexus 5 Build/MRA58N) AppleWebKit/537.36 (KHTML, like Gecko) Chrome/120.0.0.0 Mobile Safari/537.36\"\n",
    "}\n",
    "\n",
    "res=requests.get(url,params=data,verify=False)\n",
    "\n",
    "print(res.status_code)\n",
    "print(res.text)\n",
    "\n",
    "# # data = json.loads(res.text)\n",
    "type(res.text)\n",
    "# asas=res.text\n",
    "# json_object = json.loads(asas)\n",
    "# print(json_object)\n"
   ]
  },
  {
   "cell_type": "markdown",
   "metadata": {},
   "source": [
    "---"
   ]
  },
  {
   "cell_type": "code",
   "execution_count": 12,
   "metadata": {},
   "outputs": [
    {
     "name": "stderr",
     "output_type": "stream",
     "text": [
      "C:\\Users\\uib07707\\AppData\\Local\\Packages\\PythonSoftwareFoundation.Python.3.10_qbz5n2kfra8p0\\LocalCache\\local-packages\\Python310\\site-packages\\urllib3\\connectionpool.py:1045: InsecureRequestWarning: Unverified HTTPS request is being made to host 'gitee.com'. Adding certificate verification is strongly advised. See: https://urllib3.readthedocs.io/en/1.26.x/advanced-usage.html#ssl-warnings\n",
      "  warnings.warn(\n"
     ]
    },
    {
     "data": {
      "text/plain": [
       "{'urls': [{'url': 'https://tvbox.cainisi.cf', 'name': '菜妮丝线路'},\n",
       "  {'url': 'https://pastebin.com/raw/5NHaxyGR', 'name': '道长线路'},\n",
       "  {'url': 'http://肥猫.live', 'name': '肥猫'},\n",
       "  {'url': 'http://xhww.fun:63/小米/DEMO.json', 'name': '小米'},\n",
       "  {'url': 'https://xutv.alwaysdata.net/xu1027.json', 'name': '收集1'},\n",
       "  {'url': 'https://xutv.alwaysdata.net/xu1027.json', 'name': '收集2'},\n",
       "  {'url': 'https://raw.liucn.cc/box/m.json', 'name': '🌟老刘备🌟'},\n",
       "  {'url': 'https://agit.ai/Yoursmile7/TVBox/raw/branch/master/XC.json',\n",
       "   'name': '🌟南风🌟'},\n",
       "  {'url': 'http://meowtv.cn/tv', 'name': '🌟喵影视🌟'},\n",
       "  {'url': 'http://饭太硬.top/tv', 'name': '🌟饭太硬🌟'},\n",
       "  {'url': 'https://tvkj.top/DC/ysc/tvkj/svip.json', 'name': '🚀运输车'},\n",
       "  {'url': 'http://小白.love/', 'name': '🌟肥猫🌟'},\n",
       "  {'url': 'http://xhww.fun:63/小米/DEMO.json', 'name': '🌟小米🌟'},\n",
       "  {'url': 'http://pandown.pro/tvbox/tvbox.json', 'name': '🐼巧技🐼'},\n",
       "  {'url': 'https://tvbox.cainisi.cf', 'name': '🌟菜妮丝🌟'},\n",
       "  {'url': 'http://52bsj.vip:98/wuai', 'name': '🌟吾爱🌟'},\n",
       "  {'url': 'http://itvbox.cc/tvbox/云星日记/1.m3u8', 'name': '🌟云星日记🌟'},\n",
       "  {'url': 'https://szyyds.cn/tv/x.json', 'name': '🌟小马🌟'},\n",
       "  {'url': 'http://rihou.cc:88/荷城茶秀', 'name': '🌟荷城茶秀🌟'},\n",
       "  {'url': 'https://github.moeyy.xyz/https://raw.githubusercontent.com/xyq254245/xyqonlinerule/main/XYQTVBox.json',\n",
       "   'name': '🤯香雅情本地'},\n",
       "  {'url': 'https://codeberg.org/xmbjm/xmbjmjk/raw/branch/main/xmbjm.json',\n",
       "   'name': '🌟熊猫不是猫🌟'},\n",
       "  {'url': 'https://tudouaa1.oss-cn-beijing.aliyuncs.com/api/apix.json',\n",
       "   'name': '🌟4K视界🌟'},\n",
       "  {'url': 'http://home.jundie.top:81/top98.json', 'name': '🌟俊佬🌟'},\n",
       "  {'url': 'https://github.moeyy.xyz/raw.githubusercontent.com/lxhfans/TV/master/duanju.json',\n",
       "   'name': '🌟短剧🌟'},\n",
       "  {'url': 'https://github.moeyy.xyz/raw.githubusercontent.com/lxhfans/TV/master/tv.txt',\n",
       "   'name': '🌟乐享汇🌟'},\n",
       "  {'url': 'https://codeberg.org/looktv/my/raw/branch/main/ck.json',\n",
       "   'name': '🌟ck🌟'},\n",
       "  {'url': 'https://yyds.lltv8.top/yyds.json', 'name': '🌟猎狼线路🌟'},\n",
       "  {'url': 'http://yydf.540734621.xyz/yydf/yydf/bd/yydf.json',\n",
       "   'name': '🌟业余打发🌟'},\n",
       "  {'url': 'https://jihulab.com/ymz1231/xymz/-/raw/main/ymz', 'name': '🌟夜猫子🌟'},\n",
       "  {'url': 'https://jihulab.com/zhulr7765/tvbox/-/raw/main/tv.txt',\n",
       "   'name': '🌟圆周率线路🌟'},\n",
       "  {'url': 'https://freed.yuanhsing.cf/TVBox/meowcf.json', 'name': '🌟元兴线路🌟'},\n",
       "  {'url': 'http://jin.锦哥哥.love', 'name': '🌟锦哥哥🌟'},\n",
       "  {'url': 'http://39.101.135.137:8080', 'name': '🌟小白龙🌟'},\n",
       "  {'url': 'https://codeberg.org/looktv/zy/raw/branch/main/vip.qqqwww.json',\n",
       "   'name': '🌟4K流畅线路🌟'},\n",
       "  {'url': 'https://jihulab.com/moyuer/momoyu/-/raw/main/moyu.json',\n",
       "   'name': '🌟摸鱼儿🌟'}]}"
      ]
     },
     "execution_count": 12,
     "metadata": {},
     "output_type": "execute_result"
    }
   ],
   "source": [
    "import requests\n",
    "import json\n",
    "\n",
    "def read_json(url):\n",
    "    # 发送 HTTP 请求并获取 JSON 响应\n",
    "    response = requests.get(url,verify=False)\n",
    "\n",
    "    # 检查响应是否成功\n",
    "    if response.status_code == 200:\n",
    "        # 解析 JSON 响应\n",
    "        data = json.loads(response.text)\n",
    "        # json_data = data(1)\n",
    "        return data\n",
    "    else:\n",
    "        print(\"请求失败，状态码：\", response.status_code)\n",
    "\n",
    "def process_json(data):\n",
    "    # read_json(url)\n",
    "    json_data = data.read()\n",
    "\n",
    "\n",
    "\n",
    "# 替换为你要读取的在线 JSON 文档的 URL\n",
    "url = \"https://gitee.com/jiangnandao/tvboxshare/raw/master/TvBoxLink\"\n",
    "# url='http://m.nxog.top/m/333.php?ou=%E5%85%AC%E4%BC%97%E5%8F%B7%E6%AC%A7%E6%AD%8Capp&mz=index2&jar=index2&123&b=%E6%AC%A7%E6%AD%8C'\n",
    "\n",
    "read_json(url)\n",
    "# process_json(read_json(url))"
   ]
  },
  {
   "cell_type": "code",
   "execution_count": null,
   "metadata": {},
   "outputs": [],
   "source": [
    "print(type(data))\n",
    "# datas=data.values()\n",
    "datas=data['urls']\n",
    "\n",
    "print(datas[1])\n",
    "print(datas[1]['url'])\n",
    "print(datas[1]['name'])\n"
   ]
  },
  {
   "cell_type": "code",
   "execution_count": 1,
   "metadata": {},
   "outputs": [
    {
     "name": "stderr",
     "output_type": "stream",
     "text": [
      "C:\\Users\\uib07707\\AppData\\Local\\Packages\\PythonSoftwareFoundation.Python.3.10_qbz5n2kfra8p0\\LocalCache\\local-packages\\Python310\\site-packages\\urllib3\\connectionpool.py:1045: InsecureRequestWarning: Unverified HTTPS request is being made to host 'gitee.com'. Adding certificate verification is strongly advised. See: https://urllib3.readthedocs.io/en/1.26.x/advanced-usage.html#ssl-warnings\n",
      "  warnings.warn(\n",
      "C:\\Users\\uib07707\\AppData\\Local\\Packages\\PythonSoftwareFoundation.Python.3.10_qbz5n2kfra8p0\\LocalCache\\local-packages\\Python310\\site-packages\\urllib3\\connectionpool.py:1045: InsecureRequestWarning: Unverified HTTPS request is being made to host 'tvbox.cainisi.cf'. Adding certificate verification is strongly advised. See: https://urllib3.readthedocs.io/en/1.26.x/advanced-usage.html#ssl-warnings\n",
      "  warnings.warn(\n"
     ]
    },
    {
     "name": "stdout",
     "output_type": "stream",
     "text": [
      "菜妮丝线路 成功\n"
     ]
    },
    {
     "name": "stderr",
     "output_type": "stream",
     "text": [
      "C:\\Users\\uib07707\\AppData\\Local\\Packages\\PythonSoftwareFoundation.Python.3.10_qbz5n2kfra8p0\\LocalCache\\local-packages\\Python310\\site-packages\\urllib3\\connectionpool.py:1045: InsecureRequestWarning: Unverified HTTPS request is being made to host 'pastebin.com'. Adding certificate verification is strongly advised. See: https://urllib3.readthedocs.io/en/1.26.x/advanced-usage.html#ssl-warnings\n",
      "  warnings.warn(\n"
     ]
    },
    {
     "name": "stdout",
     "output_type": "stream",
     "text": [
      "道长线路 成功\n",
      "肥猫 成功\n",
      "小米 error\n"
     ]
    },
    {
     "name": "stderr",
     "output_type": "stream",
     "text": [
      "C:\\Users\\uib07707\\AppData\\Local\\Packages\\PythonSoftwareFoundation.Python.3.10_qbz5n2kfra8p0\\LocalCache\\local-packages\\Python310\\site-packages\\urllib3\\connectionpool.py:1045: InsecureRequestWarning: Unverified HTTPS request is being made to host 'xutv.alwaysdata.net'. Adding certificate verification is strongly advised. See: https://urllib3.readthedocs.io/en/1.26.x/advanced-usage.html#ssl-warnings\n",
      "  warnings.warn(\n"
     ]
    },
    {
     "name": "stdout",
     "output_type": "stream",
     "text": [
      "收集1 成功\n"
     ]
    },
    {
     "name": "stderr",
     "output_type": "stream",
     "text": [
      "C:\\Users\\uib07707\\AppData\\Local\\Packages\\PythonSoftwareFoundation.Python.3.10_qbz5n2kfra8p0\\LocalCache\\local-packages\\Python310\\site-packages\\urllib3\\connectionpool.py:1045: InsecureRequestWarning: Unverified HTTPS request is being made to host 'xutv.alwaysdata.net'. Adding certificate verification is strongly advised. See: https://urllib3.readthedocs.io/en/1.26.x/advanced-usage.html#ssl-warnings\n",
      "  warnings.warn(\n"
     ]
    },
    {
     "name": "stdout",
     "output_type": "stream",
     "text": [
      "收集2 成功\n"
     ]
    },
    {
     "name": "stderr",
     "output_type": "stream",
     "text": [
      "C:\\Users\\uib07707\\AppData\\Local\\Packages\\PythonSoftwareFoundation.Python.3.10_qbz5n2kfra8p0\\LocalCache\\local-packages\\Python310\\site-packages\\urllib3\\connectionpool.py:1045: InsecureRequestWarning: Unverified HTTPS request is being made to host 'raw.liucn.cc'. Adding certificate verification is strongly advised. See: https://urllib3.readthedocs.io/en/1.26.x/advanced-usage.html#ssl-warnings\n",
      "  warnings.warn(\n"
     ]
    },
    {
     "name": "stdout",
     "output_type": "stream",
     "text": [
      "🌟老刘备🌟 成功\n"
     ]
    },
    {
     "name": "stderr",
     "output_type": "stream",
     "text": [
      "C:\\Users\\uib07707\\AppData\\Local\\Packages\\PythonSoftwareFoundation.Python.3.10_qbz5n2kfra8p0\\LocalCache\\local-packages\\Python310\\site-packages\\urllib3\\connectionpool.py:1045: InsecureRequestWarning: Unverified HTTPS request is being made to host 'agit.ai'. Adding certificate verification is strongly advised. See: https://urllib3.readthedocs.io/en/1.26.x/advanced-usage.html#ssl-warnings\n",
      "  warnings.warn(\n"
     ]
    },
    {
     "name": "stdout",
     "output_type": "stream",
     "text": [
      "🌟南风🌟 成功\n",
      "🌟喵影视🌟 成功\n",
      "🌟饭太硬🌟 成功\n"
     ]
    },
    {
     "name": "stderr",
     "output_type": "stream",
     "text": [
      "C:\\Users\\uib07707\\AppData\\Local\\Packages\\PythonSoftwareFoundation.Python.3.10_qbz5n2kfra8p0\\LocalCache\\local-packages\\Python310\\site-packages\\urllib3\\connectionpool.py:1045: InsecureRequestWarning: Unverified HTTPS request is being made to host 'tvkj.top'. Adding certificate verification is strongly advised. See: https://urllib3.readthedocs.io/en/1.26.x/advanced-usage.html#ssl-warnings\n",
      "  warnings.warn(\n"
     ]
    },
    {
     "name": "stdout",
     "output_type": "stream",
     "text": [
      "🚀运输车 失败\n",
      "🌟肥猫🌟 成功\n",
      "🌟小米🌟 error\n",
      "🐼巧技🐼 成功\n"
     ]
    },
    {
     "name": "stderr",
     "output_type": "stream",
     "text": [
      "C:\\Users\\uib07707\\AppData\\Local\\Packages\\PythonSoftwareFoundation.Python.3.10_qbz5n2kfra8p0\\LocalCache\\local-packages\\Python310\\site-packages\\urllib3\\connectionpool.py:1045: InsecureRequestWarning: Unverified HTTPS request is being made to host 'tvbox.cainisi.cf'. Adding certificate verification is strongly advised. See: https://urllib3.readthedocs.io/en/1.26.x/advanced-usage.html#ssl-warnings\n",
      "  warnings.warn(\n"
     ]
    },
    {
     "name": "stdout",
     "output_type": "stream",
     "text": [
      "🌟菜妮丝🌟 成功\n",
      "🌟吾爱🌟 error\n"
     ]
    },
    {
     "name": "stderr",
     "output_type": "stream",
     "text": [
      "C:\\Users\\uib07707\\AppData\\Local\\Packages\\PythonSoftwareFoundation.Python.3.10_qbz5n2kfra8p0\\LocalCache\\local-packages\\Python310\\site-packages\\urllib3\\connectionpool.py:1045: InsecureRequestWarning: Unverified HTTPS request is being made to host 'itvbox.cc'. Adding certificate verification is strongly advised. See: https://urllib3.readthedocs.io/en/1.26.x/advanced-usage.html#ssl-warnings\n",
      "  warnings.warn(\n"
     ]
    },
    {
     "name": "stdout",
     "output_type": "stream",
     "text": [
      "🌟云星日记🌟 成功\n"
     ]
    },
    {
     "name": "stderr",
     "output_type": "stream",
     "text": [
      "C:\\Users\\uib07707\\AppData\\Local\\Packages\\PythonSoftwareFoundation.Python.3.10_qbz5n2kfra8p0\\LocalCache\\local-packages\\Python310\\site-packages\\urllib3\\connectionpool.py:1045: InsecureRequestWarning: Unverified HTTPS request is being made to host 'szyyds.cn'. Adding certificate verification is strongly advised. See: https://urllib3.readthedocs.io/en/1.26.x/advanced-usage.html#ssl-warnings\n",
      "  warnings.warn(\n"
     ]
    },
    {
     "name": "stdout",
     "output_type": "stream",
     "text": [
      "🌟小马🌟 成功\n"
     ]
    }
   ],
   "source": [
    "import requests\n",
    "import json\n",
    "\n",
    "url = \"https://gitee.com/jiangnandao/tvboxshare/raw/master/TvBoxLink\"\n",
    "response = requests.get(url,verify=False)\n",
    "\n",
    "if response.status_code == 200:\n",
    "    # 解析 JSON 响应\n",
    "    jsondata = json.loads(response.text)\n",
    "    # json_data = data(1)\n",
    "    datas=jsondata['urls']\n",
    "    for data in datas:\n",
    "        # print(data['url'])\n",
    "        # print(data['name'])\n",
    "        testurl=data['url']\n",
    "        try:\n",
    "            rnse = requests.get(testurl,verify=False)\n",
    "            if rnse.status_code==200:\n",
    "                print(data['name'],\"成功\")\n",
    "            else:\n",
    "                print(data['name'],\"失败\")\n",
    "        except Exception as e:\n",
    "            print(data['name'],'error')\n",
    "else:\n",
    "    print(\"请求失败，状态码：\", response.status_code)\n",
    "\n"
   ]
  },
  {
   "cell_type": "markdown",
   "metadata": {},
   "source": [
    "---"
   ]
  },
  {
   "cell_type": "code",
   "execution_count": 49,
   "metadata": {},
   "outputs": [
    {
     "name": "stdout",
     "output_type": "stream",
     "text": [
      "道长线路 https://pastebin.com/raw/5NHaxyGR 成功\n",
      "肥猫 http://肥猫.live 成功\n",
      "小米 error\n",
      "🌟老刘备🌟 https://raw.liucn.cc/box/m.json 成功\n",
      "🌟1🌟 error\n",
      "🌟2🌟 error\n",
      "🌟3🌟 error\n",
      "🌟4🌟 error\n"
     ]
    }
   ],
   "source": [
    "import requests\n",
    "import json\n",
    "import warnings \n",
    "warnings.filterwarnings(\"ignore\")\n",
    "\n",
    "with open(\"D:\\\\lxd\\\\learn\\\\py\\\\TvBoxShare\\\\tvbox.json\", \"r\", encoding=\"utf-8\") as file:\n",
    "    dataa = file.read()\n",
    "    json_data=json.loads(dataa)\n",
    "    # print(type(json_data))\n",
    "    datas=json_data['urls']\n",
    "   \n",
    "    for data in datas:\n",
    "        # print(data['url'])\n",
    "        # print(data['name'])\n",
    "        testurl=data['url']\n",
    "        try:\n",
    "            rnse = requests.get(testurl,verify=False,timeout=5)\n",
    "            if rnse.status_code==200:\n",
    "                print(data['name'],data['url'],\"成功\")\n",
    "            else:\n",
    "                print(data['name'],data['url'],\"失败\")\n",
    "                # del data['url']\n",
    "                data['name']=\"线路失效\"\n",
    "        except Exception as e:\n",
    "            print(data['name'],'error')\n",
    "            # del data['url']\n",
    "            data['name']=\"线路失效\"\n",
    "\n",
    "     # 删除重复项,失效\n",
    "    # datas={'urls',{[dict(t) for t in set([tuple(d.items()) for d in datas])]}}\n",
    "    # datas=[dict(t) for t in set([tuple(d.items()) for d in datas])]\n",
    "    # print(datas)\n",
    "    # print(type(datas))\n",
    "    \n",
    "\n",
    "    # 保存为json格式\n",
    "    savejson=json.dumps(json_data, indent=4, ensure_ascii=False)\n",
    "    # print(type(json_data))\n",
    "    # print(savejson)\n",
    "\n",
    "# # 将 JSON 数据保存到文件中\n",
    "with open(\"data1.json\", \"w\", encoding=\"utf-8\") as file:\n",
    "    file.write(savejson)\n",
    "    file.close()"
   ]
  },
  {
   "cell_type": "code",
   "execution_count": 51,
   "metadata": {},
   "outputs": [
    {
     "name": "stdout",
     "output_type": "stream",
     "text": [
      "<class 'list'>\n",
      "[\n",
      "    {\n",
      "        \"url\": \"https://pastebin.com/raw/5NHaxyGR\",\n",
      "        \"name\": \"道长线路\"\n",
      "    },\n",
      "    {\n",
      "        \"url\": \"http://肥猫.live\",\n",
      "        \"name\": \"肥猫\"\n",
      "    },\n",
      "    {\n",
      "        \"url\": \"http://xhww.fun:63/小米/DEMO.json\",\n",
      "        \"name\": \"线路失效\"\n",
      "    },\n",
      "    {\n",
      "        \"url\": \"https://raw.liucn.cc/box/m.json\",\n",
      "        \"name\": \"🌟老刘备🌟\"\n",
      "    },\n",
      "    {\n",
      "        \"url\": 1,\n",
      "        \"name\": \"线路失效\"\n",
      "    },\n",
      "    {\n",
      "        \"url\": 2,\n",
      "        \"name\": \"线路失效\"\n",
      "    },\n",
      "    {\n",
      "        \"url\": 3,\n",
      "        \"name\": \"线路失效\"\n",
      "    },\n",
      "    {\n",
      "        \"url\": 4,\n",
      "        \"name\": \"线路失效\"\n",
      "    }\n",
      "]\n",
      "<class 'str'>\n"
     ]
    }
   ],
   "source": [
    "print(type(datas))\n",
    "saves=json.dumps(datas, indent=4, ensure_ascii=False)\n",
    "# data3={'urls','datas'}\n",
    "print(saves)\n",
    "print(type(saves))"
   ]
  },
  {
   "cell_type": "code",
   "execution_count": 22,
   "metadata": {},
   "outputs": [
    {
     "name": "stdout",
     "output_type": "stream",
     "text": [
      "29\n",
      "0 ----\n",
      " 29 [{'url': 'https://wds.ecsxs.com/230989.json', 'name': '📢春颖路线📢'}, {'url': 'https://tvbox.cainisi.cf', 'name': '菜妮丝线路'}, {'url': 'https://pastebin.com/raw/5NHaxyGR', 'name': '道长线路'}, {'url': 'http://肥猫.live', 'name': '肥猫'}, {'url': 'http://xhww.fun:63/小米/DEMO.json', 'name': '小米'}, {'url': 'https://raw.liucn.cc/box/m.json', 'name': '🌟老刘备🌟'}, {'url': 'https://agit.ai/Yoursmile7/TVBox/raw/branch/master/XC.json', 'name': '🌟南风🌟'}, {'url': 'http://饭太硬.top/tv', 'name': '🌟饭太硬🌟'}, {'url': 'https://tvkj.top/DC/ysc/tvkj/svip.json', 'name': '🚀运输车'}, {'url': 'http://小白.love/', 'name': '🌟肥猫🌟'}, {'url': 'http://52bsj.vip:98/wuai', 'name': '🌟吾爱🌟'}, {'url': 'http://itvbox.cc/tvbox/云星日记/1.m3u8', 'name': '🌟云星日记🌟'}, {'url': 'https://szyyds.cn/tv/x.json', 'name': '🌟小马🌟'}, {'url': 'http://rihou.cc:88/荷城茶秀', 'name': '🌟荷城茶秀🌟'}, {'url': 'https://github.moeyy.xyz/https://raw.githubusercontent.com/xyq254245/xyqonlinerule/main/XYQTVBox.json', 'name': '🤯香雅情本地'}, {'url': 'https://codeberg.org/xmbjm/xmbjmjk/raw/branch/main/xmbjm.json', 'name': '🌟熊猫不是猫🌟'}, {'url': 'https://tudouaa1.oss-cn-beijing.aliyuncs.com/api/apix.json', 'name': '🌟4K视界🌟'}, {'url': 'http://home.jundie.top:81/top98.json', 'name': '🌟俊佬🌟'}, {'url': 'https://github.moeyy.xyz/raw.githubusercontent.com/lxhfans/TV/master/duanju.json', 'name': '🌟短剧🌟'}, {'url': 'https://github.moeyy.xyz/raw.githubusercontent.com/lxhfans/TV/master/tv.txt', 'name': '🌟乐享汇🌟'}, {'url': 'http://yydf.540734621.xyz/yydf/yydf/bd/yydf.json', 'name': '🌟业余打发🌟'}, {'url': 'https://jihulab.com/ymz1231/xymz/-/raw/main/ymz', 'name': '🌟夜猫子🌟'}, {'url': 'https://jihulab.com/zhulr7765/tvbox/-/raw/main/tv.txt', 'name': '🌟圆周率线路🌟'}, {'url': 'https://freed.yuanhsing.cf/TVBox/meowcf.json', 'name': '🌟元兴线路🌟'}, {'url': 'http://jin.锦哥哥.love', 'name': '🌟锦哥哥🌟'}, {'url': 'http://39.101.135.137:8080', 'name': '🌟小白龙🌟'}, {'url': 'https://codeberg.org/looktv/zy/raw/branch/main/vip.qqqwww.json', 'name': '🌟4K流畅线路🌟'}, {'url': 'https://jihulab.com/moyuer/momoyu/-/raw/main/moyu.json', 'name': '🌟摸鱼儿🌟'}, {'url': 1, 'name': '🌟1🌟'}]\n"
     ]
    }
   ],
   "source": [
    "# 在线测试，失效删除ok\n",
    "# 等待：删除重复项；备份文件；上传gitee\n",
    "import requests\n",
    "import json\n",
    "import warnings \n",
    "warnings.filterwarnings(\"ignore\")\n",
    "\n",
    "# 备份一份文件\n",
    "i=0\n",
    "j=0\n",
    "m=0\n",
    "n=0\n",
    "oo=0\n",
    "with open(\"tvbox.json\", \"r\", encoding=\"utf-8\") as file:\n",
    "    dataa = file.read()\n",
    "    json_data=json.loads(dataa)\n",
    "    # print(type(json_data))\n",
    "    datas=json_data['urls']\n",
    "    print(len(datas))\n",
    "    for data in datas:\n",
    "        i=i+1\n",
    "        testurl=data['url']\n",
    "        \n",
    "        try:\n",
    "            rnse = requests.get(testurl,verify=False)\n",
    "            if rnse.status_code==200:\n",
    "                j=j+1\n",
    "                print('当前j',j,'当前i',i,'-',data['name'],data['url'],\"成功\",)\n",
    "\n",
    "            else:\n",
    "                m=m+1\n",
    "                print('当前m',m,'当前i',i,'-',data['name'],data['url'],\"失败\")\n",
    "                # data['name']=\"线路失效\"\n",
    "                datas.remove(data)\n",
    "        except Exception:\n",
    "            n=n+1\n",
    "            print('当前n',n,'当前循i',i,'-',data['name'],data['url'],\"error\")\n",
    "            # data['name']=\"线路失效\"\n",
    "            datas.remove(data)\n",
    "            # del datas[]\n",
    "        else:\n",
    "            print('当前i',i,'-',data['name'],data['url'],\"111\")\n",
    "        finally:\n",
    "            oo=oo+1\n",
    "\n",
    "    print(oo,'----\\n',i,datas)\n",
    "    dict2={}\n",
    "    dict2['urls']=datas\n",
    "    \n",
    "    savejson2=json.dumps(dict2, indent=4, ensure_ascii=False)\n",
    "\n",
    "\n",
    "with open(\"data2.json\", \"w\", encoding=\"utf-8\") as file:\n",
    "    file.write(savejson2)\n",
    "    file.close()"
   ]
  },
  {
   "cell_type": "code",
   "execution_count": 19,
   "metadata": {},
   "outputs": [
    {
     "name": "stdout",
     "output_type": "stream",
     "text": [
      "[1, 1, 2, 8, 3, 2, 5, 2, 6]\n"
     ]
    }
   ],
   "source": [
    "lst = [1, 1, 0, 2, 0, 0, 8, 3, 0, 2, 5, 0, 2, 6]\n",
    "\n",
    "lst2 = filter(lambda x: x != 0, lst)\n",
    "print(list(lst2))"
   ]
  },
  {
   "cell_type": "markdown",
   "metadata": {},
   "source": [
    "---\n",
    "测试本地生成类似的json数据\n"
   ]
  },
  {
   "cell_type": "code",
   "execution_count": 6,
   "metadata": {},
   "outputs": [
    {
     "name": "stdout",
     "output_type": "stream",
     "text": [
      "Invalid URL '1': No scheme supplied. Perhaps you meant https://1? \n",
      "\n",
      "error\n"
     ]
    }
   ],
   "source": [
    "import requests\n",
    "# url=\"http://xhww.fun:63/小米/DEMO.json\"\n",
    "url=\"1\"\n",
    "try:\n",
    "    rnse22 = requests.get(url,verify=False)\n",
    "    print(rnse22.status_code)\n",
    "except Exception as e:\n",
    "    print(e,'\\n')\n",
    "    print('error')"
   ]
  },
  {
   "cell_type": "code",
   "execution_count": 10,
   "metadata": {},
   "outputs": [
    {
     "name": "stdout",
     "output_type": "stream",
     "text": [
      "29\n",
      "当前成功j 1 当前i 1 - 📢春颖路线📢 https://wds.ecsxs.com/230989.json 成功\n",
      "当前成功j 2 当前i 2 - 菜妮丝线路 https://tvbox.cainisi.cf 成功\n",
      "当前成功j 3 当前i 3 - 道长线路 https://pastebin.com/raw/5NHaxyGR 成功\n",
      "当前成功j 4 当前i 4 - 肥猫 http://肥猫.live 成功\n",
      "当前error n 1 当前循i 5 - 小米 http://xhww.fun:63/小米/DEMO.json error\n",
      "当前成功j 5 当前i 6 - 🌟老刘备🌟 https://raw.liucn.cc/box/m.json 成功\n",
      "当前成功j 6 当前i 7 - 🌟南风🌟 https://agit.ai/Yoursmile7/TVBox/raw/branch/master/XC.json 成功\n",
      "当前成功j 7 当前i 8 - 🌟饭太硬🌟 http://饭太硬.top/tv 成功\n",
      "当前失败m 1 当前i 9 - 🚀运输车 https://tvkj.top/DC/ysc/tvkj/svip.json 失败\n",
      "当前成功j 8 当前i 10 - 🌟肥猫🌟 http://小白.love/ 成功\n",
      "当前error n 2 当前循i 11 - 🌟吾爱🌟 http://52bsj.vip:98/wuai error\n",
      "当前成功j 9 当前i 12 - 🌟云星日记🌟 http://itvbox.cc/tvbox/云星日记/1.m3u8 成功\n",
      "当前成功j 10 当前i 13 - 🌟小马🌟 https://szyyds.cn/tv/x.json 成功\n",
      "当前成功j 11 当前i 14 - 🌟荷城茶秀🌟 http://rihou.cc:88/荷城茶秀 成功\n",
      "当前成功j 12 当前i 15 - 🤯香雅情本地 https://github.moeyy.xyz/https://raw.githubusercontent.com/xyq254245/xyqonlinerule/main/XYQTVBox.json 成功\n",
      "当前失败m 2 当前i 16 - 🌟熊猫不是猫🌟 https://codeberg.org/xmbjm/xmbjmjk/raw/branch/main/xmbjm.json 失败\n",
      "当前失败m 3 当前i 17 - 🌟4K视界🌟 https://tudouaa1.oss-cn-beijing.aliyuncs.com/api/apix.json 失败\n",
      "当前成功j 13 当前i 18 - 🌟俊佬🌟 http://home.jundie.top:81/top98.json 成功\n",
      "当前成功j 14 当前i 19 - 🌟短剧🌟 https://github.moeyy.xyz/raw.githubusercontent.com/lxhfans/TV/master/duanju.json 成功\n",
      "当前成功j 15 当前i 20 - 🌟乐享汇🌟 https://github.moeyy.xyz/raw.githubusercontent.com/lxhfans/TV/master/tv.txt 成功\n",
      "当前成功j 16 当前i 21 - 🌟业余打发🌟 http://yydf.540734621.xyz/yydf/yydf/bd/yydf.json 成功\n",
      "当前成功j 17 当前i 22 - 🌟夜猫子🌟 https://jihulab.com/ymz1231/xymz/-/raw/main/ymz 成功\n",
      "当前成功j 18 当前i 23 - 🌟圆周率线路🌟 https://jihulab.com/zhulr7765/tvbox/-/raw/main/tv.txt 成功\n",
      "当前error n 3 当前循i 24 - 🌟元兴线路🌟 https://freed.yuanhsing.cf/TVBox/meowcf.json error\n",
      "当前成功j 19 当前i 25 - 🌟锦哥哥🌟 http://jin.锦哥哥.love 成功\n",
      "当前成功j 20 当前i 26 - 🌟小白龙🌟 http://39.101.135.137:8080 成功\n",
      "当前失败m 4 当前i 27 - 🌟4K流畅线路🌟 https://codeberg.org/looktv/zy/raw/branch/main/vip.qqqwww.json 失败\n",
      "当前失败m 5 当前i 28 - 🌟摸鱼儿🌟 https://jihulab.com/moyuer/momoyu/-/raw/main/moyu.json 失败\n",
      "当前error n 4 当前循i 29 - 🌟1🌟 1 error\n",
      "oo计次 29 ----\n",
      " 29 [{'url': 'https://wds.ecsxs.com/230989.json', 'name': '📢春颖路线📢'}, {'url': 'https://tvbox.cainisi.cf', 'name': '菜妮丝线路'}, {'url': 'https://pastebin.com/raw/5NHaxyGR', 'name': '道长线路'}, {'url': 'http://肥猫.live', 'name': '肥猫'}, {'url': 'http://xhww.fun:63/小米/DEMO.json', 'name': '小米'}, {'url': 'https://raw.liucn.cc/box/m.json', 'name': '🌟老刘备🌟'}, {'url': 'https://agit.ai/Yoursmile7/TVBox/raw/branch/master/XC.json', 'name': '🌟南风🌟'}, {'url': 'http://饭太硬.top/tv', 'name': '🌟饭太硬🌟'}, {'url': 'https://tvkj.top/DC/ysc/tvkj/svip.json', 'name': '🚀运输车'}, {'url': 'http://小白.love/', 'name': '🌟肥猫🌟'}, {'url': 'http://52bsj.vip:98/wuai', 'name': '🌟吾爱🌟'}, {'url': 'http://itvbox.cc/tvbox/云星日记/1.m3u8', 'name': '🌟云星日记🌟'}, {'url': 'https://szyyds.cn/tv/x.json', 'name': '🌟小马🌟'}, {'url': 'http://rihou.cc:88/荷城茶秀', 'name': '🌟荷城茶秀🌟'}, {'url': 'https://github.moeyy.xyz/https://raw.githubusercontent.com/xyq254245/xyqonlinerule/main/XYQTVBox.json', 'name': '🤯香雅情本地'}, {'url': 'https://codeberg.org/xmbjm/xmbjmjk/raw/branch/main/xmbjm.json', 'name': '🌟熊猫不是猫🌟'}, {'url': 'https://tudouaa1.oss-cn-beijing.aliyuncs.com/api/apix.json', 'name': '🌟4K视界🌟'}, {'url': 'http://home.jundie.top:81/top98.json', 'name': '🌟俊佬🌟'}, {'url': 'https://github.moeyy.xyz/raw.githubusercontent.com/lxhfans/TV/master/duanju.json', 'name': '🌟短剧🌟'}, {'url': 'https://github.moeyy.xyz/raw.githubusercontent.com/lxhfans/TV/master/tv.txt', 'name': '🌟乐享汇🌟'}, {'url': 'http://yydf.540734621.xyz/yydf/yydf/bd/yydf.json', 'name': '🌟业余打发🌟'}, {'url': 'https://jihulab.com/ymz1231/xymz/-/raw/main/ymz', 'name': '🌟夜猫子🌟'}, {'url': 'https://jihulab.com/zhulr7765/tvbox/-/raw/main/tv.txt', 'name': '🌟圆周率线路🌟'}, {'url': 'https://freed.yuanhsing.cf/TVBox/meowcf.json', 'name': '🌟元兴线路🌟'}, {'url': 'http://jin.锦哥哥.love', 'name': '🌟锦哥哥🌟'}, {'url': 'http://39.101.135.137:8080', 'name': '🌟小白龙🌟'}, {'url': 'https://codeberg.org/looktv/zy/raw/branch/main/vip.qqqwww.json', 'name': '🌟4K流畅线路🌟'}, {'url': 'https://jihulab.com/moyuer/momoyu/-/raw/main/moyu.json', 'name': '🌟摸鱼儿🌟'}, {'url': '1', 'name': '🌟1🌟'}]\n"
     ]
    }
   ],
   "source": [
    "import requests\n",
    "import json\n",
    "import warnings \n",
    "warnings.filterwarnings(\"ignore\")\n",
    "\n",
    "# 备份一份文件\n",
    "i=0\n",
    "j=0\n",
    "m=0\n",
    "n=0\n",
    "oo=0\n",
    "with open(\"tvbox.json\", \"r\", encoding=\"utf-8\") as file:\n",
    "    dataa = file.read()\n",
    "    json_data=json.loads(dataa)\n",
    "    # print(type(json_data))\n",
    "    datas=json_data['urls']\n",
    "    print(len(datas))\n",
    "    for data in datas:\n",
    "        i=i+1\n",
    "        testurl=data['url']\n",
    "        \n",
    "        try:\n",
    "            rnse = requests.get(testurl,verify=False)\n",
    "            if rnse.status_code==200:\n",
    "                j=j+1\n",
    "                print('当前成功j',j,'当前i',i,'-',data['name'],data['url'],\"成功\",)\n",
    "\n",
    "            else:\n",
    "                m=m+1\n",
    "                print('当前失败m',m,'当前i',i,'-',data['name'],data['url'],\"失败\")\n",
    "                # data['name']=\"线路失效\"\n",
    "                # datas.remove(data)\n",
    "        except Exception:\n",
    "            n=n+1\n",
    "            print('当前error n',n,'当前循i',i,'-',data['name'],data['url'],\"error\")\n",
    "            # data['name']=\"线路失效\"\n",
    "            # datas.remove(data)\n",
    "            # del datas[]\n",
    "        else:\n",
    "            pass\n",
    "            # print('当前elsei',i,'-',data['name'],\"111\")\n",
    "        finally:\n",
    "            oo=oo+1\n",
    "\n",
    "print('oo计次',oo,'----\\n',i,datas)"
   ]
  },
  {
   "cell_type": "code",
   "execution_count": 14,
   "metadata": {},
   "outputs": [
    {
     "name": "stdout",
     "output_type": "stream",
     "text": [
      "总线路条数 29\n",
      "📢春颖路线📢 https://wds.ecsxs.com/230989.json 成功\n",
      "菜妮丝线路 https://tvbox.cainisi.cf 成功\n",
      "道长线路 https://pastebin.com/raw/5NHaxyGR 成功\n",
      "肥猫 http://肥猫.live 成功\n",
      "小米 http://xhww.fun:63/小米/DEMO.json error\n",
      "已删除当前error 小米\n",
      "🌟南风🌟 https://agit.ai/Yoursmile7/TVBox/raw/branch/master/XC.json 成功\n",
      "🌟饭太硬🌟 http://饭太硬.top/tv 成功\n",
      "🚀运输车 https://tvkj.top/DC/ysc/tvkj/svip.json 失败\n",
      "已删除当前失败 3 🚀运输车\n",
      "🌟吾爱🌟 http://52bsj.vip:98/wuai error\n",
      "已删除当前error 🌟吾爱🌟\n",
      "🌟小马🌟 https://szyyds.cn/tv/x.json 成功\n",
      "🌟荷城茶秀🌟 http://rihou.cc:88/荷城茶秀 成功\n",
      "🤯香雅情本地 https://github.moeyy.xyz/https://raw.githubusercontent.com/xyq254245/xyqonlinerule/main/XYQTVBox.json 成功\n",
      "🌟熊猫不是猫🌟 https://codeberg.org/xmbjm/xmbjmjk/raw/branch/main/xmbjm.json 失败\n",
      "已删除当前失败 3 🌟熊猫不是猫🌟\n",
      "🌟俊佬🌟 http://home.jundie.top:81/top98.json 成功\n",
      "🌟短剧🌟 https://github.moeyy.xyz/raw.githubusercontent.com/lxhfans/TV/master/duanju.json 成功\n",
      "🌟乐享汇🌟 https://github.moeyy.xyz/raw.githubusercontent.com/lxhfans/TV/master/tv.txt 成功\n",
      "🌟业余打发🌟 http://yydf.540734621.xyz/yydf/yydf/bd/yydf.json 成功\n",
      "🌟夜猫子🌟 https://jihulab.com/ymz1231/xymz/-/raw/main/ymz 成功\n",
      "🌟圆周率线路🌟 https://jihulab.com/zhulr7765/tvbox/-/raw/main/tv.txt 成功\n",
      "🌟元兴线路🌟 https://freed.yuanhsing.cf/TVBox/meowcf.json error\n",
      "已删除当前error 🌟元兴线路🌟\n",
      "🌟小白龙🌟 http://39.101.135.137:8080 成功\n",
      "🌟4K流畅线路🌟 https://codeberg.org/looktv/zy/raw/branch/main/vip.qqqwww.json 失败\n",
      "已删除当前失败 3 🌟4K流畅线路🌟\n",
      "🌟1🌟 https://jih error\n",
      "已删除当前error 🌟1🌟\n",
      "成功路线条数 22\n"
     ]
    }
   ],
   "source": [
    "import requests\n",
    "import json\n",
    "import warnings \n",
    "warnings.filterwarnings(\"ignore\")\n",
    "\n",
    "with open(\"tvbox.json\", \"r\", encoding=\"utf-8\") as file:\n",
    "    dataa = file.read()\n",
    "    json_data=json.loads(dataa)\n",
    "    datas=json_data['urls']\n",
    "    print('总线路条数：',len(datas))\n",
    "    for data in datas:\n",
    "        testurl=data['url']\n",
    "        try:\n",
    "            rnse = requests.get(testurl,verify=False)\n",
    "            if rnse.status_code==200:\n",
    "                print(data['name'],data['url'],\"成功\",)\n",
    "            else:\n",
    "                print(data['name'],data['url'],\"失败\")\n",
    "                datas.remove(data)\n",
    "                print('已删除当前失败',data['name'])\n",
    "        except Exception:\n",
    "            print(data['name'],data['url'],\"error\")\n",
    "            datas.remove(data)\n",
    "            print('已删除当前error',data['name'])\n",
    "        else:\n",
    "            pass\n",
    "        finally:\n",
    "            pass\n",
    "print('成功路线条数：',len(datas))\n",
    "dict2={}\n",
    "dict2['urls']=datas\n",
    "\n",
    "savejson2=json.dumps(dict2, indent=4, ensure_ascii=False)\n",
    "with open(\"data2.json\", \"w\", encoding=\"utf-8\") as file:\n",
    "    file.write(savejson2)\n",
    "    file.close()"
   ]
  },
  {
   "cell_type": "code",
   "execution_count": 20,
   "metadata": {},
   "outputs": [
    {
     "name": "stdout",
     "output_type": "stream",
     "text": [
      "总线路条数： [{'url': 'https://wds.ecsxs.com/230989.json', 'name': '📢春颖路线📢'}, {'url': 'https://tvbox.cainisi.cf', 'name': '菜妮丝线路'}, {'url': 'https://pastebin.com/raw/5NHaxyGR', 'name': '道长线路'}, {'url': 'http://肥猫.live', 'name': '肥猫'}, {'url': 'http://xhww.fun:63/小米/DEMO.json', 'name': '小米'}, {'url': 'https://raw.liucn.cc/box/m.json', 'name': '🌟老刘备🌟'}, {'url': 'https://agit.ai/Yoursmile7/TVBox/raw/branch/master/XC.json', 'name': '🌟南风🌟'}, {'url': 'http://饭太硬.top/tv', 'name': '🌟饭太硬🌟'}, {'url': 'https://tvkj.top/DC/ysc/tvkj/svip.json', 'name': '🚀运输车'}, {'url': 'http://小白.love/', 'name': '🌟肥猫🌟'}, {'url': 'http://52bsj.vip:98/wuai', 'name': '🌟吾爱🌟'}, {'url': 'http://itvbox.cc/tvbox/云星日记/1.m3u8', 'name': '🌟云星日记🌟'}, {'url': 'https://szyyds.cn/tv/x.json', 'name': '🌟小马🌟'}, {'url': 'http://rihou.cc:88/荷城茶秀', 'name': '🌟荷城茶秀🌟'}, {'url': 'https://github.moeyy.xyz/https://raw.githubusercontent.com/xyq254245/xyqonlinerule/main/XYQTVBox.json', 'name': '🤯香雅情本地'}, {'url': 'https://codeberg.org/xmbjm/xmbjmjk/raw/branch/main/xmbjm.json', 'name': '🌟熊猫不是猫🌟'}, {'url': 'https://tudouaa1.oss-cn-beijing.aliyuncs.com/api/apix.json', 'name': '🌟4K视界🌟'}, {'url': 'http://home.jundie.top:81/top98.json', 'name': '🌟俊佬🌟'}, {'url': 'https://github.moeyy.xyz/raw.githubusercontent.com/lxhfans/TV/master/duanju.json', 'name': '🌟短剧🌟'}, {'url': 'https://github.moeyy.xyz/raw.githubusercontent.com/lxhfans/TV/master/tv.txt', 'name': '🌟乐享汇🌟'}, {'url': 'http://yydf.540734621.xyz/yydf/yydf/bd/yydf.json', 'name': '🌟业余打发🌟'}, {'url': 'https://jihulab.com/ymz1231/xymz/-/raw/main/ymz', 'name': '🌟夜猫子🌟'}, {'url': 'https://jihulab.com/zhulr7765/tvbox/-/raw/main/tv.txt', 'name': '🌟圆周率线路🌟'}, {'url': 'https://freed.yuanhsing.cf/TVBox/meowcf.json', 'name': '🌟元兴线路🌟'}, {'url': 'http://jin.锦哥哥.love', 'name': '🌟锦哥哥🌟'}, {'url': 'http://39.101.135.137:8080', 'name': '🌟小白龙🌟'}, {'url': 'https://codeberg.org/looktv/zy/raw/branch/main/vip.qqqwww.json', 'name': '🌟4K流畅线路🌟'}, {'url': 'https://jihulab.com/moyuer/momoyu/-/raw/main/moyu.json', 'name': '🌟摸鱼儿🌟'}, {'url': 'https://jih', 'name': '🌟1🌟'}]\n",
      "<class 'list'>\n",
      "https://tvbox.cainisi.cf 菜妮丝线路\n",
      "{'url': 'https://wds.ecsxs.com/230989.json', 'name': '📢春颖路线📢'} {'url': 'https://pastebin.com/raw/5NHaxyGR', 'name': '道长线路'} {'url': 'http://肥猫.live', 'name': '肥猫'} {'url': 'http://xhww.fun:63/小米/DEMO.json', 'name': '小米'} {'url': 'https://raw.liucn.cc/box/m.json', 'name': '🌟老刘备🌟'} {'url': 'https://agit.ai/Yoursmile7/TVBox/raw/branch/master/XC.json', 'name': '🌟南风🌟'} {'url': 'http://饭太硬.top/tv', 'name': '🌟饭太硬🌟'} {'url': 'https://tvkj.top/DC/ysc/tvkj/svip.json', 'name': '🚀运输车'} {'url': 'http://小白.love/', 'name': '🌟肥猫🌟'} {'url': 'http://52bsj.vip:98/wuai', 'name': '🌟吾爱🌟'} {'url': 'http://itvbox.cc/tvbox/云星日记/1.m3u8', 'name': '🌟云星日记🌟'} {'url': 'https://szyyds.cn/tv/x.json', 'name': '🌟小马🌟'} {'url': 'http://rihou.cc:88/荷城茶秀', 'name': '🌟荷城茶秀🌟'} {'url': 'https://github.moeyy.xyz/https://raw.githubusercontent.com/xyq254245/xyqonlinerule/main/XYQTVBox.json', 'name': '🤯香雅情本地'} {'url': 'https://codeberg.org/xmbjm/xmbjmjk/raw/branch/main/xmbjm.json', 'name': '🌟熊猫不是猫🌟'} {'url': 'https://tudouaa1.oss-cn-beijing.aliyuncs.com/api/apix.json', 'name': '🌟4K视界🌟'} {'url': 'http://home.jundie.top:81/top98.json', 'name': '🌟俊佬🌟'} {'url': 'https://github.moeyy.xyz/raw.githubusercontent.com/lxhfans/TV/master/duanju.json', 'name': '🌟短剧🌟'} {'url': 'https://github.moeyy.xyz/raw.githubusercontent.com/lxhfans/TV/master/tv.txt', 'name': '🌟乐享汇🌟'} {'url': 'http://yydf.540734621.xyz/yydf/yydf/bd/yydf.json', 'name': '🌟业余打发🌟'} {'url': 'https://jihulab.com/ymz1231/xymz/-/raw/main/ymz', 'name': '🌟夜猫子🌟'} {'url': 'https://jihulab.com/zhulr7765/tvbox/-/raw/main/tv.txt', 'name': '🌟圆周率线路🌟'} {'url': 'https://freed.yuanhsing.cf/TVBox/meowcf.json', 'name': '🌟元兴线路🌟'} {'url': 'http://jin.锦哥哥.love', 'name': '🌟锦哥哥🌟'} {'url': 'http://39.101.135.137:8080', 'name': '🌟小白龙🌟'} {'url': 'https://codeberg.org/looktv/zy/raw/branch/main/vip.qqqwww.json', 'name': '🌟4K流畅线路🌟'} {'url': 'https://jihulab.com/moyuer/momoyu/-/raw/main/moyu.json', 'name': '🌟摸鱼儿🌟'} {'url': 'https://jih', 'name': '🌟1🌟'}\n",
      "('url', 'http://xhww.fun:63/小米/DEMO.json') ('name', '小米')\n"
     ]
    }
   ],
   "source": [
    "import requests\n",
    "import json\n",
    "with open(\"tvbox.json\", \"r\", encoding=\"utf-8\") as file:\n",
    "    dataa = file.read()\n",
    "    json_data=json.loads(dataa)\n",
    "    datas=json_data['urls']\n",
    "    print('总线路条数：',datas)\n",
    "    print(type(datas))\n",
    "    print(*datas[1].values())\n",
    "    del datas[1]\n",
    "    print(*datas)\n",
    "    print(*datas[3].items())\n",
    "    "
   ]
  },
  {
   "cell_type": "code",
   "execution_count": 21,
   "metadata": {},
   "outputs": [
    {
     "name": "stdout",
     "output_type": "stream",
     "text": [
      "Help on class set in module builtins:\n",
      "\n",
      "class set(object)\n",
      " |  set() -> new empty set object\n",
      " |  set(iterable) -> new set object\n",
      " |  \n",
      " |  Build an unordered collection of unique elements.\n",
      " |  \n",
      " |  Methods defined here:\n",
      " |  \n",
      " |  __and__(self, value, /)\n",
      " |      Return self&value.\n",
      " |  \n",
      " |  __contains__(...)\n",
      " |      x.__contains__(y) <==> y in x.\n",
      " |  \n",
      " |  __eq__(self, value, /)\n",
      " |      Return self==value.\n",
      " |  \n",
      " |  __ge__(self, value, /)\n",
      " |      Return self>=value.\n",
      " |  \n",
      " |  __getattribute__(self, name, /)\n",
      " |      Return getattr(self, name).\n",
      " |  \n",
      " |  __gt__(self, value, /)\n",
      " |      Return self>value.\n",
      " |  \n",
      " |  __iand__(self, value, /)\n",
      " |      Return self&=value.\n",
      " |  \n",
      " |  __init__(self, /, *args, **kwargs)\n",
      " |      Initialize self.  See help(type(self)) for accurate signature.\n",
      " |  \n",
      " |  __ior__(self, value, /)\n",
      " |      Return self|=value.\n",
      " |  \n",
      " |  __isub__(self, value, /)\n",
      " |      Return self-=value.\n",
      " |  \n",
      " |  __iter__(self, /)\n",
      " |      Implement iter(self).\n",
      " |  \n",
      " |  __ixor__(self, value, /)\n",
      " |      Return self^=value.\n",
      " |  \n",
      " |  __le__(self, value, /)\n",
      " |      Return self<=value.\n",
      " |  \n",
      " |  __len__(self, /)\n",
      " |      Return len(self).\n",
      " |  \n",
      " |  __lt__(self, value, /)\n",
      " |      Return self<value.\n",
      " |  \n",
      " |  __ne__(self, value, /)\n",
      " |      Return self!=value.\n",
      " |  \n",
      " |  __or__(self, value, /)\n",
      " |      Return self|value.\n",
      " |  \n",
      " |  __rand__(self, value, /)\n",
      " |      Return value&self.\n",
      " |  \n",
      " |  __reduce__(...)\n",
      " |      Return state information for pickling.\n",
      " |  \n",
      " |  __repr__(self, /)\n",
      " |      Return repr(self).\n",
      " |  \n",
      " |  __ror__(self, value, /)\n",
      " |      Return value|self.\n",
      " |  \n",
      " |  __rsub__(self, value, /)\n",
      " |      Return value-self.\n",
      " |  \n",
      " |  __rxor__(self, value, /)\n",
      " |      Return value^self.\n",
      " |  \n",
      " |  __sizeof__(...)\n",
      " |      S.__sizeof__() -> size of S in memory, in bytes\n",
      " |  \n",
      " |  __sub__(self, value, /)\n",
      " |      Return self-value.\n",
      " |  \n",
      " |  __xor__(self, value, /)\n",
      " |      Return self^value.\n",
      " |  \n",
      " |  add(...)\n",
      " |      Add an element to a set.\n",
      " |      \n",
      " |      This has no effect if the element is already present.\n",
      " |  \n",
      " |  clear(...)\n",
      " |      Remove all elements from this set.\n",
      " |  \n",
      " |  copy(...)\n",
      " |      Return a shallow copy of a set.\n",
      " |  \n",
      " |  difference(...)\n",
      " |      Return the difference of two or more sets as a new set.\n",
      " |      \n",
      " |      (i.e. all elements that are in this set but not the others.)\n",
      " |  \n",
      " |  difference_update(...)\n",
      " |      Remove all elements of another set from this set.\n",
      " |  \n",
      " |  discard(...)\n",
      " |      Remove an element from a set if it is a member.\n",
      " |      \n",
      " |      If the element is not a member, do nothing.\n",
      " |  \n",
      " |  intersection(...)\n",
      " |      Return the intersection of two sets as a new set.\n",
      " |      \n",
      " |      (i.e. all elements that are in both sets.)\n",
      " |  \n",
      " |  intersection_update(...)\n",
      " |      Update a set with the intersection of itself and another.\n",
      " |  \n",
      " |  isdisjoint(...)\n",
      " |      Return True if two sets have a null intersection.\n",
      " |  \n",
      " |  issubset(...)\n",
      " |      Report whether another set contains this set.\n",
      " |  \n",
      " |  issuperset(...)\n",
      " |      Report whether this set contains another set.\n",
      " |  \n",
      " |  pop(...)\n",
      " |      Remove and return an arbitrary set element.\n",
      " |      Raises KeyError if the set is empty.\n",
      " |  \n",
      " |  remove(...)\n",
      " |      Remove an element from a set; it must be a member.\n",
      " |      \n",
      " |      If the element is not a member, raise a KeyError.\n",
      " |  \n",
      " |  symmetric_difference(...)\n",
      " |      Return the symmetric difference of two sets as a new set.\n",
      " |      \n",
      " |      (i.e. all elements that are in exactly one of the sets.)\n",
      " |  \n",
      " |  symmetric_difference_update(...)\n",
      " |      Update a set with the symmetric difference of itself and another.\n",
      " |  \n",
      " |  union(...)\n",
      " |      Return the union of sets as a new set.\n",
      " |      \n",
      " |      (i.e. all elements that are in either set.)\n",
      " |  \n",
      " |  update(...)\n",
      " |      Update a set with the union of itself and others.\n",
      " |  \n",
      " |  ----------------------------------------------------------------------\n",
      " |  Class methods defined here:\n",
      " |  \n",
      " |  __class_getitem__(...) from builtins.type\n",
      " |      See PEP 585\n",
      " |  \n",
      " |  ----------------------------------------------------------------------\n",
      " |  Static methods defined here:\n",
      " |  \n",
      " |  __new__(*args, **kwargs) from builtins.type\n",
      " |      Create and return a new object.  See help(type) for accurate signature.\n",
      " |  \n",
      " |  ----------------------------------------------------------------------\n",
      " |  Data and other attributes defined here:\n",
      " |  \n",
      " |  __hash__ = None\n",
      "\n"
     ]
    }
   ],
   "source": [
    "help(set)"
   ]
  }
 ],
 "metadata": {
  "kernelspec": {
   "display_name": "Python 3",
   "language": "python",
   "name": "python3"
  },
  "language_info": {
   "codemirror_mode": {
    "name": "ipython",
    "version": 3
   },
   "file_extension": ".py",
   "mimetype": "text/x-python",
   "name": "python",
   "nbconvert_exporter": "python",
   "pygments_lexer": "ipython3",
   "version": "3.10.11"
  }
 },
 "nbformat": 4,
 "nbformat_minor": 2
}
