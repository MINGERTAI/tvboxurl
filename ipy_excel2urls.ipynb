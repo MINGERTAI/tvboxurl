{
 "cells": [
  {
   "cell_type": "markdown",
   "metadata": {},
   "source": [
    "## 20240517 Excel 内容转化为urls\n"
   ]
  },
  {
   "cell_type": "markdown",
   "metadata": {
    "notebookRunGroups": {
     "groupValue": "2"
    }
   },
   "source": [
    " "
   ]
  },
  {
   "cell_type": "code",
   "execution_count": 1,
   "metadata": {},
   "outputs": [
    {
     "name": "stdout",
     "output_type": "stream",
     "text": [
      "小白龙 http://39.101.135.137:8080/\n",
      "🔘吾爱3 http://52pan.top:81/api/v3/file/get/174964/%E5%90%BE%E7%88%B1%E8%AF%84%E6%B5%8B.m3u?sign=rPssLoffquDXszCARt6UNF8MobSa1FA27XomzOluJBY%3D%3A0\n",
      "吾爱线路 http://52pan.top:81/api/v3/file/get/174964/吾爱评测.m3u?sign=rPssLoffquDXszCARt6UNF8MobSa1FA27XomzOluJBY%3D%3A0\n",
      "XC1 http://8.210.232.168/xc.json\n",
      "TK http://9xi4o.tk/0725.json\n",
      "BP http://bp.tvbox.cam\n",
      "🔘巧记 http://cdn.qiaoji8.com/tvbox.json\n",
      "俊佬线路 http://home.jundie.top:81/top98.json\n",
      "YGX888 http://jxym.ygx888.com/vip/api.json\n",
      "欧歌 http://nxog.eu.org/m/111.php?ou=公众号欧歌app&mz=index&jar=index&123&b=欧歌\n",
      "💦思牧丨巧技巧技 http://pandown.pro/tvbox/tvbox.json\n",
      "万达影视 http://sinopacifichk.com/box/56.txt\n",
      "小米线路 http://xhww.fun:63/小米/DEMO.json\n",
      "XHZ http://xhztv.top/4k.json\n",
      "XHZ2 http://xhztv.top/xhz.json\n",
      "XHZ3 http://xktv6.icu/d/\n",
      "摸鱼 http://我不是.摸鱼儿.top\n",
      "🔘骚零 https://100km.top/0\n",
      "运输车加速 https://cf.weixine.net/ysc.json\n",
      "🍚饭太硬多仓仓库 https://download.kstore.space/download/2883/1022tv.json\n",
      "🍚饭太硬多仓仓库 https://download.kstore.space/download/2883/nzk/nzk0722.json\n",
      "小鱼 https://download.kstore.space/download/4645/Tvbox/myks/99.png\n",
      "QLKJ https://gitee.com/zhaodehe/qlkj/raw/master/ql.json\n",
      "🚀高天JS https://github.moeyy.xyz/https://raw.githubusercontent.com/gaotianliuyun/gao/master/js.json\n",
      "拾光T4线路： https://gitlab.com/xmbjm/dc/-/raw/main/T4.json\n",
      "拾光单线路： https://gitlab.com/xmbjm/omg/-/raw/main/omg.json\n",
      "机缘巧盒凯弟 https://jihulab.com/jyqhkd1/jk/-/raw/main/机缘巧盒凯弟.json\n",
      "心魔线路 https://jihulab.com/yw88075/tvbox//raw/main/dr/js.json\n",
      "魔饭单仓 https://jihulab.com/yw88075/tvbox/-/raw/main/dr/js.json\n",
      "宝盒VIP https://mirror.ghproxy.com/https://raw.githubusercontent.com/guot55/YGBH/main/vip2.json\n",
      "HeCheng https://mirror.ghproxy.com/https://raw.githubusercontent.com/HeChengChaXiu/tvbox/main/hccx.json\n",
      "爱TV自营接口单仓 https://mirror.ghproxy.com/https://raw.githubusercontent.com/txtvv/txtv/main/tvbox/0326.json\n",
      "拾光4K https://mirror.ghproxy.com/https://raw.githubusercontent.com/xmbjm/vip4K/main/4Kvip.json\n",
      "拾光 https://mirror.ghproxy.com/https://raw.githubusercontent.com/xmbjm/xmbjmjk/main/xmbjm.json\n",
      "🔘江雅 https://mirror.ghproxy.com/https://raw.githubusercontent.com/xyq254245/xyqonlinerule/main/XYQTVBox.json\n",
      "ydc https://mirror.ghproxy.com/https://raw.githubusercontent.com/yudengcheng/ydcbox/main/ydc.json\n",
      "德福苑 https://notabug.org/afecc/tvbox/raw/main/dfy.json\n",
      "风 https://notabug.org/kite/feng/raw/master/feng.json\n",
      "WIND https://notabug.org/kite/wind/raw/master/wind.json\n",
      "qizheng https://notabug.org/qizhen15800/My9394/raw/master/%e4%b8%8d%e8%89%af%e5%b8%85.json\n",
      "11 https://pan.shangui.cc/f/4LBAF0/ali.json\n",
      "最牛逼接口 https://pan.shangui.cc/f/lmP0Hk/mao4.txt\n",
      "22 https://pan.shangui.cc/f/mPecb/%E9%87%87%E9%9B%86.json\n",
      "道长线路 https://pastebin.com/raw/5NHaxyGR\n",
      "卧龙资源 https://pastebin.com/raw/gtbKvnE1\n",
      "yw88075 https://raw.gitmirror.com/yw88075/tvbox/main/dr/js.json\n",
      "🔘刘备 https://raw.liucn.cc/box/m.json\n",
      "s2 https://s2.pub/cally\n",
      "熊猫不叫猫 https://s2.pub/xmbjmxdc\n",
      "sz https://szyyds.cn/tv/x.json\n",
      "太阳 https://tvbox.meitufu.com/TVBox/tv.json\n",
      "ysc https://weixine.net/ysc.json\n",
      "恋影线路 https://www.lianyingtv.com/fast/fast\n",
      "🚀骚零线路 https://xhdwc.tk/0\n"
     ]
    }
   ],
   "source": [
    "from openpyxl import load_workbook\n",
    "excel_file = r'D:\\lxd\\learn\\py\\tvbox\\excel_xianlu.xlsx'\n",
    "workbook = load_workbook(filename=excel_file)\n",
    "# sheet = workbook.active  # 获取活动工作表\n",
    "sheet = workbook['xl']  # 根据名称获取工作表\n",
    "\n",
    "for row in sheet.iter_rows(values_only=True):\n",
    "    # print(row)\n",
    "    print(row[0],row[1])\n",
    "    "
   ]
  },
  {
   "cell_type": "markdown",
   "metadata": {},
   "source": [
    "增加列表中的字典"
   ]
  },
  {
   "cell_type": "code",
   "execution_count": null,
   "metadata": {},
   "outputs": [],
   "source": [
    "import json\n",
    "from openpyxl import load_workbook\n",
    "excel_file = r'D:\\lxd\\learn\\py\\tvbox\\excel_xianlu.xlsx'\n",
    "workbook = load_workbook(filename=excel_file)\n",
    "# sheet = workbook.active  # 获取活动工作表\n",
    "sheet = workbook['xl']  # 根据名称获取工作表\n",
    "dict={}\n",
    "listdict=[]\n",
    "for row in sheet.iter_rows(values_only=True):\n",
    "    # print(row[0],row[1])\n",
    "    # dict.update(name=row[0],url=row[1])\n",
    "    dict[\"name\"]=row[0]\n",
    "    dict[\"url\"]=row[1]\n",
    "    listdict.append(dict.copy())\n",
    "# print(listdict)\n",
    "dict_loaded = json.dumps(listdict, indent=4, ensure_ascii=False)\n",
    "print(dict_loaded)"
   ]
  }
 ],
 "metadata": {
  "kernelspec": {
   "display_name": "Python 3",
   "language": "python",
   "name": "python3"
  },
  "language_info": {
   "codemirror_mode": {
    "name": "ipython",
    "version": 3
   },
   "file_extension": ".py",
   "mimetype": "text/x-python",
   "name": "python",
   "nbconvert_exporter": "python",
   "pygments_lexer": "ipython3",
   "version": "3.10.11"
  }
 },
 "nbformat": 4,
 "nbformat_minor": 2
}
