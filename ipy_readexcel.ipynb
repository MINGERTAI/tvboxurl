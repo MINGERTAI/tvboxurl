{
 "cells": [
  {
   "cell_type": "markdown",
   "metadata": {},
   "source": [
    "读取Excel 内容"
   ]
  },
  {
   "cell_type": "code",
   "execution_count": null,
   "metadata": {},
   "outputs": [],
   "source": [
    "import os\n",
    "import pandas as pd\n",
    "\n",
    "# 指定要读取的文件夹路径\n",
    "folder_path = r'D:\\lxd\\learn\\py\\tvbox'\n",
    "\n",
    "# 遍历文件夹中的.xlsx文件\n",
    "for filename in os.listdir(folder_path):\n",
    "    if filename.endswith('.xlsx'):  # 确保文件是Excel文件\n",
    "        file_path = os.path.join(folder_path, filename)\n",
    "        \n",
    "        # 使用pandas读取Excel文件\n",
    "        try:\n",
    "            df = pd.read_excel(file_path)\n",
    "            print(f\"正在处理文件: {filename}\")\n",
    "            # 在这里处理df，比如打印内容、分析数据等\n",
    "            print(df.head())  # 打印每份文件的前几行作为示例\n",
    "        except Exception as e:\n",
    "            print(f\"读取文件{filename}时出错: {e}\")"
   ]
  },
  {
   "cell_type": "code",
   "execution_count": null,
   "metadata": {},
   "outputs": [],
   "source": [
    "   import pandas as pd\n",
    "\n",
    "   # 读取单个sheet\n",
    "   excel_file = r'D:\\lxd\\learn\\py\\tvbox\\excel_xianlu.xlsx'\n",
    "   df = pd.read_excel(excel_file)\n",
    "   print(df)\n",
    "\n",
    "   # 读取特定sheet\n",
    "   df_sheet1 = pd.read_excel(excel_file, sheet_name='Sheet1')\n",
    "   print(df_sheet1)"
   ]
  },
  {
   "cell_type": "markdown",
   "metadata": {},
   "source": [
    "批量读取第二列的urls数据"
   ]
  },
  {
   "cell_type": "code",
   "execution_count": 14,
   "metadata": {},
   "outputs": [
    {
     "name": "stdout",
     "output_type": "stream",
     "text": [
      "http://饭太硬.top/tv\n",
      "http://肥猫.live\n",
      "https://agit.ai/Yoursmile7/TVBox/raw/branch/master/XC.json\n",
      "http://xhww.fun:63/小米/DEMO.json\n",
      "https://tvbox.cainisi.cf\n",
      "https://100km.top/0\n",
      "http://cdn.qiaoji8.com/tvbox.json\n",
      "http://8.210.232.168/xc.json\n",
      "https://github.moeyy.xyz/https://raw.githubusercontent.com/xyq254245/xyqonlinerule/main/XYQTVBox.json\n",
      "https://mirror.ghproxy.com/raw.githubusercontent.com/gaotianliuyun/gao/master/0825.json\n",
      "https://mirror.ghproxy.com/raw.githubusercontent.com/gaotianliuyun/gao/master/js.json\n",
      "https://raw.githubusercontent.com/gaotianliuyun/gao/master/9918.json\n",
      "https://jihulab.com/duomv/apps/-/raw/main/fast.json\n",
      "http://tv.nxog.top/api.php?mz=xb&id=1&b=欧歌\n",
      "http://jk.itvbox.cc:66/可视TV/云星日记/仓库/api.json\n",
      "http://52bsj.vip:98/wuaihouse\n",
      "https://pastebin.com/raw/5NHaxyGR\n",
      "https://raw.liucn.cc/box/m.json\n",
      "https://weixine.net/ysc.json\n",
      "http://52bsj.vip:98/wuai\n",
      "http://itvbox.cc/tvbox/云星日记/1.m3u8\n",
      "https://pan.shangui.cc/f/lmP0Hk/mao4.txt\n",
      "https://mirror.ghproxy.com/https://raw.githubusercontent.com/txtvv/txtv/main/tvbox/0326.json\n",
      "https://mirror.ghproxy.com/https://raw.githubusercontent.com/txtvv/txtv/main/tvbox/cang.json\n",
      "https://mirror.ghproxy.com/https://raw.githubusercontent.com/txtvv/txtv/main/daku.txt\n",
      "https://mirror.ghproxy.com/https://raw.githubusercontent.com/txtvv/txtv/main/ku/讴歌多仓.txt\n",
      "https://mirror.ghproxy.com/https://raw.githubusercontent.com/txtvv/txtv/main/ku/七星多仓.txt\n",
      "https://mirror.ghproxy.com/https://raw.githubusercontent.com/txtvv/txtv/main/ku/心动仓库.txt\n",
      "https://mirror.ghproxy.com/https://raw.githubusercontent.com/txtvv/txtv/main/ku/宝盒多仓.txt\n",
      "https://mirror.ghproxy.com/https://raw.githubusercontent.com/txtvv/txtv/main/ku/云星多仓.txt\n",
      "https://mirror.ghproxy.com/https://raw.githubusercontent.com/txtvv/txtv/main/ku/多多多仓.txt\n",
      "http://tv.tv520.shop/\n",
      "http://nxog.eu.org/m/111.php?ou=公众号欧歌app&mz=index&jar=index&123&b=欧歌\n",
      "http://tt.iitvba.com/bata/教育.json\n",
      "http://tt.iitvba.com/bata/老年戏曲.json\n",
      "http://tv.nxog.top/m/111.php?ou=公众号欧歌app&mz=all&jar=all&b=欧歌\n",
      "http://小白.love\n",
      "http://rihou.vip:55/天天开心\n",
      "http://rihou.cc:88/荷城茶秀\n",
      "http://xiaohu.xzam.cn/xiaohu\n"
     ]
    }
   ],
   "source": [
    "from openpyxl import load_workbook\n",
    "excel_file = r'D:\\lxd\\learn\\py\\tvbox\\excel_xianlu.xlsx'\n",
    "workbook = load_workbook(filename=excel_file)\n",
    "# sheet = workbook.active  # 获取活动工作表\n",
    "sheet = workbook['Sheet1']  # 根据名称获取工作表\n",
    "\n",
    "for row in sheet.iter_rows(values_only=True):\n",
    "    # print(row)\n",
    "    print(row[1])"
   ]
  }
 ],
 "metadata": {
  "kernelspec": {
   "display_name": "Python 3",
   "language": "python",
   "name": "python3"
  },
  "language_info": {
   "codemirror_mode": {
    "name": "ipython",
    "version": 3
   },
   "file_extension": ".py",
   "mimetype": "text/x-python",
   "name": "python",
   "nbconvert_exporter": "python",
   "pygments_lexer": "ipython3",
   "version": "3.10.11"
  }
 },
 "nbformat": 4,
 "nbformat_minor": 2
}
